{
 "cells": [
  {
   "cell_type": "markdown",
   "id": "1514d26c",
   "metadata": {},
   "source": [
    "First of all, you need to configure pytorch based on your own environment https://pytorch.org/get-started/locally/ , https://pytorch.org/get-started/previous-versions/.\n",
    "        \n",
    "        \n",
    "Then, install all the requirements that GlitchProber needs"
   ]
  },
  {
   "cell_type": "code",
   "execution_count": 1,
   "id": "97a24d4a",
   "metadata": {
    "ExecuteTime": {
     "end_time": "2024-06-11T09:04:20.511716Z",
     "start_time": "2024-06-11T09:04:20.509444Z"
    }
   },
   "outputs": [],
   "source": [
    "# !pip install -r requirements.txt"
   ]
  },
  {
   "cell_type": "markdown",
   "id": "dcde6c18",
   "metadata": {},
   "source": [
    "We send the path in transformer or local path to load the model\n",
    "\n",
    "To create an instance of this class, you would typically provide at least the __model_name__, like so:\n",
    "\n",
    "instance = ClassName(model_name=\"ExampleModel\")\n",
    "\n",
    "If you want to override the default value of __gemma__, you can provide it explicitly:\n",
    "\n",
    "instance = ClassName(model_name=\"ExampleModel\", __gemma__=0.1)"
   ]
  },
  {
   "cell_type": "code",
   "execution_count": null,
   "id": "a13f74b5",
   "metadata": {
    "ExecuteTime": {
     "end_time": "2024-06-11T09:05:08.260748Z",
     "start_time": "2024-06-11T09:04:20.512987Z"
    },
    "scrolled": true
   },
   "outputs": [],
   "source": [
    "import GlitchProber\n",
    "model_path = '/path/to/your/model/'\n",
    "model = GlitchProber.glitchprober(model_name = model_path)\n",
    "model.load_model()"
   ]
  },
  {
   "cell_type": "markdown",
   "id": "e0971e49",
   "metadata": {},
   "source": [
    "We test the glitch token number and the accuracy.\n",
    "\n",
    "To use the function, you simply call it with the desired parameters, for example:\n",
    "\n",
    "model.detect_glitch_token(P_pca_rate=75, SVM_para_C=0.5, SVM_para_degree=3)\n"
   ]
  },
  {
   "cell_type": "code",
   "execution_count": null,
   "id": "83bace0e",
   "metadata": {
    "ExecuteTime": {
     "end_time": "2024-06-11T09:57:44.825319Z",
     "start_time": "2024-06-11T09:05:08.262542Z"
    }
   },
   "outputs": [],
   "source": [
    "model.detect_glitch_token(P_pca_rate=75, SVM_para_C=0.5, SVM_para_degree=3)"
   ]
  },
  {
   "cell_type": "markdown",
   "id": "ef61649e",
   "metadata": {},
   "source": [
    "Then we try to fix some glitch tokens\n",
    "\n",
    "NEED TO RUN model.detect_glitch_token FUNCION FIRST"
   ]
  },
  {
   "cell_type": "code",
   "execution_count": null,
   "id": "c927a8bc",
   "metadata": {
    "ExecuteTime": {
     "end_time": "2024-06-11T09:57:45.299382Z",
     "start_time": "2024-06-11T09:57:44.827571Z"
    }
   },
   "outputs": [],
   "source": [
    "model.fix_glitch_token()"
   ]
  },
  {
   "cell_type": "markdown",
   "id": "227faf3a",
   "metadata": {},
   "source": [
    "If you need to further modify parameters or add other models for analysis\n",
    "\n",
    "You can directly modify the source code in glitchprober.py. "
   ]
  },
  {
   "cell_type": "code",
   "execution_count": null,
   "id": "51dca77f",
   "metadata": {},
   "outputs": [],
   "source": []
  }
 ],
 "metadata": {
  "kernelspec": {
   "display_name": "Python 3 (ipykernel)",
   "language": "python",
   "name": "python3"
  },
  "language_info": {
   "codemirror_mode": {
    "name": "ipython",
    "version": 3
   },
   "file_extension": ".py",
   "mimetype": "text/x-python",
   "name": "python",
   "nbconvert_exporter": "python",
   "pygments_lexer": "ipython3",
   "version": "3.11.5"
  },
  "toc": {
   "base_numbering": 1,
   "nav_menu": {},
   "number_sections": true,
   "sideBar": true,
   "skip_h1_title": false,
   "title_cell": "Table of Contents",
   "title_sidebar": "Contents",
   "toc_cell": false,
   "toc_position": {},
   "toc_section_display": true,
   "toc_window_display": false
  }
 },
 "nbformat": 4,
 "nbformat_minor": 5
}
